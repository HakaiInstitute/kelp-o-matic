{
 "cells": [
  {
   "metadata": {},
   "cell_type": "markdown",
   "source": "# Bulk Kelp detection in many images",
   "id": "99007cdfe2d6ae3"
  },
  {
   "metadata": {},
   "cell_type": "markdown",
   "source": [
    "This example notebook walks through how to install the latest version of kelp-o-matic, and then run it on a set of images in sequence\n",
    "to effectively process a backlog of images through kelp-o-matic."
   ],
   "id": "3eeea1d115d3ed8f"
  },
  {
   "metadata": {},
   "cell_type": "code",
   "source": "!pip install git+https://github.com/HakaiInstitute/kelp-o-matic@dev",
   "id": "24129a84b65004d",
   "outputs": [],
   "execution_count": null
  },
  {
   "metadata": {
    "collapsed": true,
    "ExecuteTime": {
     "end_time": "2025-08-06T17:35:25.127488Z",
     "start_time": "2025-08-06T17:35:24.923797Z"
    }
   },
   "cell_type": "code",
   "source": "from kelp_o_matic import model_registry",
   "id": "initial_id",
   "outputs": [],
   "execution_count": 1
  },
  {
   "metadata": {
    "ExecuteTime": {
     "end_time": "2025-08-06T17:35:25.612770Z",
     "start_time": "2025-08-06T17:35:25.607354Z"
    }
   },
   "cell_type": "code",
   "source": [
    "# We can see all the available models and versions available using the list_models method\n",
    "\n",
    "model_registry.list_models()"
   ],
   "id": "9c468241cec6fb24",
   "outputs": [
    {
     "data": {
      "text/plain": [
       "[('mussel-rgb', '20250711'),\n",
       " ('kelp-rgb', '20250728'),\n",
       " ('mussel-gooseneck-rgb', '20250725'),\n",
       " ('kelp-rgbi', '20231214'),\n",
       " ('kelp-ps8b', '20250626')]"
      ]
     },
     "execution_count": 2,
     "metadata": {},
     "output_type": "execute_result"
    }
   ],
   "execution_count": 2
  },
  {
   "metadata": {
    "ExecuteTime": {
     "end_time": "2025-08-06T17:35:26.127454Z",
     "start_time": "2025-08-06T17:35:26.125073Z"
    }
   },
   "cell_type": "code",
   "source": [
    "# We can get the latest revision of the kelp-rgb as follows:\n",
    "# model = model_registry[\"kelp-rgb\"]\n",
    "\n",
    "# Or select a specific revision from the list\n",
    "model = model_registry[(\"kelp-rgb\", \"20250728\")]"
   ],
   "id": "7cd63c541d6ec060",
   "outputs": [],
   "execution_count": 3
  },
  {
   "metadata": {
    "ExecuteTime": {
     "end_time": "2025-08-06T17:35:26.637198Z",
     "start_time": "2025-08-06T17:35:26.632092Z"
    }
   },
   "cell_type": "code",
   "source": [
    "from pathlib import Path\n",
    "\n",
    "# When can get all the tif images in a directory as follows\n",
    "image_paths = list(Path(\"../testdata\").glob(\"*.tif\"))\n",
    "\n",
    "# Or, we can just create the list manually\n",
    "# image_paths = [\n",
    "#     \"/path/to/kelp_scene_1234.tif\",\n",
    "#     \"/path/to/kelp_scene_some_other_area.tif\",\n",
    "#     \"/path/to/additional/kelp_scene_5555.tif\",\n",
    "# ]\n",
    "\n",
    "# You can check the paths all exist before running the big batch job\n",
    "for p in image_paths:\n",
    "    assert Path(p).is_file(), f\"{p} doesn't exist or is not a file.\"\n",
    "\n",
    "print(f'Found {len(image_paths)} images to process')"
   ],
   "id": "76a125dff0d6fff0",
   "outputs": [
    {
     "name": "stdout",
     "output_type": "stream",
     "text": [
      "Found 6 images to process\n"
     ]
    }
   ],
   "execution_count": 4
  },
  {
   "metadata": {
    "ExecuteTime": {
     "end_time": "2025-08-06T17:35:36.311192Z",
     "start_time": "2025-08-06T17:35:27.220949Z"
    }
   },
   "cell_type": "code",
   "source": [
    "crop_size = 2048\n",
    "\n",
    "for i, image_path in enumerate(image_paths):\n",
    "    # Modify the input path a bit to create an informative output path\n",
    "    output_path = image_path.with_name(f\"{image_path.stem}_kelp_rgb_kom_v{model.revision}_cs{crop_size}.tif\")\n",
    "\n",
    "    print(f\"Processing image {i+1}/{len(image_paths)}\")\n",
    "    print(f\"{image_path.name} -> {output_path.name}\")\n",
    "\n",
    "    model.process(\n",
    "        img_path=image_path,\n",
    "        output_path=output_path,\n",
    "        batch_size=1,           # Process just one tile at a time.\n",
    "        crop_size=crop_size,         # Increase from the default 1024. Use larger is you can\n",
    "        blur_kernel_size=5,     # A little post-processing blur smoothes out some label noise\n",
    "        morph_kernel_size=0,    # Shut off morphological operations in post processing\n",
    "        band_order=[1,2,3],     # RGB ordering\n",
    "    )"
   ],
   "id": "a76fbb01e5cf6d1f",
   "outputs": [
    {
     "name": "stdout",
     "output_type": "stream",
     "text": [
      "Processing image 1/6\n",
      "20240721_CentralCoast_ManleyWomanley_rgb_georef_mos_U1288.tif -> 20240721_CentralCoast_ManleyWomanley_rgb_georef_mos_U1288_kelp_rgb_kom_v20250728_cs2048.tif\n"
     ]
    },
    {
     "data": {
      "text/plain": [
       "Output()"
      ],
      "application/vnd.jupyter.widget-view+json": {
       "version_major": 2,
       "version_minor": 0,
       "model_id": "5ead2cacf5404ee0a1b8085e2e99d9e6"
      }
     },
     "metadata": {},
     "output_type": "display_data"
    },
    {
     "data": {
      "text/plain": [],
      "text/html": [
       "<pre style=\"white-space:pre;overflow-x:auto;line-height:normal;font-family:Menlo,'DejaVu Sans Mono',consolas,'Courier New',monospace\"></pre>\n"
      ]
     },
     "metadata": {},
     "output_type": "display_data"
    },
    {
     "data": {
      "text/plain": [
       "\u001B[32m✓ Loaded cached model from: \u001B[0m\u001B[32m/Users/taylor.denouden/Library/Caches/kelp_o_matic/models/\u001B[0m\u001B[32mkelp-rgb-20250728.onnx\u001B[0m\n"
      ],
      "text/html": [
       "<pre style=\"white-space:pre;overflow-x:auto;line-height:normal;font-family:Menlo,'DejaVu Sans Mono',consolas,'Courier New',monospace\"><span style=\"color: #008000; text-decoration-color: #008000\">✓ Loaded cached model from: /Users/taylor.denouden/Library/Caches/kelp_o_matic/models/kelp-rgb-20250728.onnx</span>\n",
       "</pre>\n"
      ]
     },
     "metadata": {},
     "output_type": "display_data"
    },
    {
     "data": {
      "text/plain": [
       "Output()"
      ],
      "application/vnd.jupyter.widget-view+json": {
       "version_major": 2,
       "version_minor": 0,
       "model_id": "f7da2c90b4e84faea2d78c92857f875c"
      }
     },
     "metadata": {},
     "output_type": "display_data"
    }
   ],
   "execution_count": null
  },
  {
   "metadata": {},
   "cell_type": "code",
   "outputs": [],
   "execution_count": null,
   "source": "",
   "id": "70405bd4baa5e656"
  }
 ],
 "metadata": {
  "kernelspec": {
   "display_name": "Python 3",
   "language": "python",
   "name": "python3"
  },
  "language_info": {
   "codemirror_mode": {
    "name": "ipython",
    "version": 2
   },
   "file_extension": ".py",
   "mimetype": "text/x-python",
   "name": "python",
   "nbconvert_exporter": "python",
   "pygments_lexer": "ipython2",
   "version": "2.7.6"
  }
 },
 "nbformat": 4,
 "nbformat_minor": 5
}
