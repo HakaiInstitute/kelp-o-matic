{
 "cells": [
  {
   "cell_type": "code",
   "execution_count": 1,
   "id": "691572e0-f572-4c67-af1b-a46810b7e40a",
   "metadata": {
    "editable": true,
    "slideshow": {
     "slide_type": ""
    },
    "tags": []
   },
   "outputs": [
    {
     "name": "stdout",
     "output_type": "stream",
     "text": [
      "\u001B[2mUsing Python 3.12.3 environment at: /home/taylor/PycharmProjects/hakai-ml-train/.venv\u001B[0m\n",
      "\u001B[2K\u001B[2mResolved \u001B[1m50 packages\u001B[0m \u001B[2min 107ms\u001B[0m\u001B[0m                                        \u001B[0m\n",
      "\u001B[2mAudited \u001B[1m50 packages\u001B[0m \u001B[2min 0.11ms\u001B[0m\u001B[0m\n"
     ]
    }
   ],
   "source": [
    "!uv pip install -U \"kelp-o-matic==0.14.0rc2\" tqdm rasterio shapely fiona polars"
   ]
  },
  {
   "cell_type": "code",
   "execution_count": 2,
   "id": "7cb33176-9f40-4f87-a69f-4d54c2007787",
   "metadata": {},
   "outputs": [],
   "source": [
    "from pathlib import Path\n",
    "\n",
    "import polars as pl\n",
    "from kelp_o_matic import model_registry, __version__ as komversion\n",
    "from tqdm.auto import tqdm\n",
    "import rasterio\n",
    "import rasterio.features\n",
    "import fiona\n",
    "from shapely.geometry import shape"
   ]
  },
  {
   "cell_type": "code",
   "execution_count": 4,
   "id": "c6ad1e3b-046e-441e-93b4-1d94975a8b2d",
   "metadata": {},
   "outputs": [
    {
     "data": {
      "text/html": [
       "<div><style>\n",
       ".dataframe > thead > tr,\n",
       ".dataframe > tbody > tr {\n",
       "  text-align: right;\n",
       "  white-space: pre-wrap;\n",
       "}\n",
       "</style>\n",
       "<small>shape: (61, 5)</small><table border=\"1\" class=\"dataframe\"><thead><tr><th>site</th><th>mobe_id</th><th>img_type</th><th>path</th><th>notes</th></tr><tr><td>str</td><td>str</td><td>str</td><td>str</td><td>str</td></tr></thead><tbody><tr><td>&quot;Breaker&quot;</td><td>null</td><td>&quot;RGB &quot;</td><td>&quot;/mnt/geospatial/Internal/RS/UA…</td><td>null</td></tr><tr><td>&quot;Breaker&quot;</td><td>null</td><td>&quot;MS&quot;</td><td>&quot;/mnt/geospatial/Internal/RS/UA…</td><td>null</td></tr><tr><td>&quot;Manley/Womanley&quot;</td><td>null</td><td>&quot;RGB &quot;</td><td>&quot;/mnt/geospatial/Internal/RS/UA…</td><td>null</td></tr><tr><td>&quot;Manley/Womanley&quot;</td><td>null</td><td>&quot;MS&quot;</td><td>&quot;/mnt/geospatial/Internal/RS/UA…</td><td>null</td></tr><tr><td>&quot;Spider HIRMD&quot;</td><td>null</td><td>&quot;RGB &quot;</td><td>&quot;/mnt/geospatial/Internal/RS/UA…</td><td>null</td></tr><tr><td>&hellip;</td><td>&hellip;</td><td>&hellip;</td><td>&hellip;</td><td>&hellip;</td></tr><tr><td>&quot;West Beach/2nd Beach&quot;</td><td>&quot;U1413&quot;</td><td>&quot;RGB &quot;</td><td>&quot;/mnt/geospatial/Internal/RS/UA…</td><td>&quot;F6 2.1 m&quot;</td></tr><tr><td>&quot;West Beach/2nd Beach&quot;</td><td>&quot;U1437&quot;</td><td>&quot;RGB &quot;</td><td>&quot;/mnt/geospatial/Internal/RS/UA…</td><td>&quot;2.1 m July 28th&quot;</td></tr><tr><td>&quot;Dublin Bay&quot;</td><td>&quot;U1440&quot;</td><td>&quot;RGB &quot;</td><td>&quot;/mnt/geospatial/Internal/RS/UA…</td><td>&quot;H:\\Internal\\RS\\Historical Air …</td></tr><tr><td>&quot;NW Calvert - sunny&quot;</td><td>&quot;U1439&quot;</td><td>&quot;RGB &quot;</td><td>&quot;/mnt/geospatial/Internal/RS/UA…</td><td>null</td></tr><tr><td>&quot;West Beach/2nd Beach&quot;</td><td>&quot;U1441&quot;</td><td>&quot;RGB &quot;</td><td>&quot;/mnt/geospatial/Internal/RS/UA…</td><td>&quot;2.1 m July 29th&quot;</td></tr></tbody></table></div>"
      ],
      "text/plain": [
       "shape: (61, 5)\n",
       "┌──────────────────────┬─────────┬──────────┬───────────────────────────┬──────────────────────────┐\n",
       "│ site                 ┆ mobe_id ┆ img_type ┆ path                      ┆ notes                    │\n",
       "│ ---                  ┆ ---     ┆ ---      ┆ ---                       ┆ ---                      │\n",
       "│ str                  ┆ str     ┆ str      ┆ str                       ┆ str                      │\n",
       "╞══════════════════════╪═════════╪══════════╪═══════════════════════════╪══════════════════════════╡\n",
       "│ Breaker              ┆ null    ┆ RGB      ┆ /mnt/geospatial/Internal/ ┆ null                     │\n",
       "│                      ┆         ┆          ┆ RS/UA…                    ┆                          │\n",
       "│ Breaker              ┆ null    ┆ MS       ┆ /mnt/geospatial/Internal/ ┆ null                     │\n",
       "│                      ┆         ┆          ┆ RS/UA…                    ┆                          │\n",
       "│ Manley/Womanley      ┆ null    ┆ RGB      ┆ /mnt/geospatial/Internal/ ┆ null                     │\n",
       "│                      ┆         ┆          ┆ RS/UA…                    ┆                          │\n",
       "│ Manley/Womanley      ┆ null    ┆ MS       ┆ /mnt/geospatial/Internal/ ┆ null                     │\n",
       "│                      ┆         ┆          ┆ RS/UA…                    ┆                          │\n",
       "│ Spider HIRMD         ┆ null    ┆ RGB      ┆ /mnt/geospatial/Internal/ ┆ null                     │\n",
       "│                      ┆         ┆          ┆ RS/UA…                    ┆                          │\n",
       "│ …                    ┆ …       ┆ …        ┆ …                         ┆ …                        │\n",
       "│ West Beach/2nd Beach ┆ U1413   ┆ RGB      ┆ /mnt/geospatial/Internal/ ┆ F6 2.1 m                 │\n",
       "│                      ┆         ┆          ┆ RS/UA…                    ┆                          │\n",
       "│ West Beach/2nd Beach ┆ U1437   ┆ RGB      ┆ /mnt/geospatial/Internal/ ┆ 2.1 m July 28th          │\n",
       "│                      ┆         ┆          ┆ RS/UA…                    ┆                          │\n",
       "│ Dublin Bay           ┆ U1440   ┆ RGB      ┆ /mnt/geospatial/Internal/ ┆ H:\\Internal\\RS\\Historica │\n",
       "│                      ┆         ┆          ┆ RS/UA…                    ┆ l Air …                  │\n",
       "│ NW Calvert - sunny   ┆ U1439   ┆ RGB      ┆ /mnt/geospatial/Internal/ ┆ null                     │\n",
       "│                      ┆         ┆          ┆ RS/UA…                    ┆                          │\n",
       "│ West Beach/2nd Beach ┆ U1441   ┆ RGB      ┆ /mnt/geospatial/Internal/ ┆ 2.1 m July 29th          │\n",
       "│                      ┆         ┆          ┆ RS/UA…                    ┆                          │\n",
       "└──────────────────────┴─────────┴──────────┴───────────────────────────┴──────────────────────────┘"
      ]
     },
     "execution_count": 4,
     "metadata": {},
     "output_type": "execute_result"
    }
   ],
   "source": [
    "# Use polars to read a Google sheet to get paths to files to process\n",
    "\n",
    "df = (\n",
    "    pl\n",
    "        .read_csv(\"https://docs.google.com/spreadsheets/d/e/2PACX-1vRsZ2sRPsuAcnWf-fErM5OYPH688QkLfRSkjnoARz0giaoIzx1wHmyR1nvWsvYjRw/pub?gid=1820174638&single=true&output=csv\")\n",
    "        .filter(pl.col(\"Type\") == \"kelp\")\n",
    "        .filter(pl.col(\"Ortho georeferenced\") == \"Y\")\n",
    "        .select(\n",
    "            site=pl.col(\"Site name\"),\n",
    "            mobe_id=pl.col(\"MOBE\"),\n",
    "            img_type=pl.col(\"RGB/MS\"),\n",
    "            path=(\n",
    "                pl.col(\"location for KoM\")\n",
    "                    .str.replace_all(r\"\\\\\",r\"/\")\n",
    "                    .str.replace_all(\"/10.8.1.30\",\"mnt\")\n",
    "                    .str.replace(\"H:\",\"/mnt/geospatial\")\n",
    "                    .str.replace(\"U:\",\"/mnt/aco-uvic/\")\n",
    "                    .str.replace_all(\"\\\"\",\"\")\n",
    "                    .str.strip_chars()\n",
    "            ),\n",
    "            notes=pl.col(\"Notes\")\n",
    "        )\n",
    ")\n",
    "aco_df = df.filter(pl.col(\"mobe_id\") == \"ACO\")\n",
    "df = df.filter((pl.col(\"mobe_id\") != \"ACO\") | pl.col(\"mobe_id\").is_null())\n",
    "df"
   ]
  },
  {
   "cell_type": "code",
   "execution_count": 5,
   "id": "53a9420d-3066-430f-8a7e-eb6d9c2a5188",
   "metadata": {},
   "outputs": [
    {
     "name": "stdout",
     "output_type": "stream",
     "text": [
      "42 RGB images\n",
      "19 MS images\n",
      "3 ACO images\n"
     ]
    }
   ],
   "source": [
    "rgb_paths = [Path(r[0]) for r in (\n",
    "    df\n",
    "        .filter(pl.col(\"img_type\").str.contains(\"RGB\"))\n",
    "        .select(pl.col(\"path\"))\n",
    "        .iter_rows()\n",
    ")]\n",
    "print(f\"{len(rgb_paths)} RGB images\")\n",
    "\n",
    "ms_paths = [Path(r[0]) for r in (\n",
    "    df\n",
    "        .filter(pl.col(\"img_type\").str.contains(\"MS\"))\n",
    "        .select(pl.col(\"path\"))\n",
    "        .iter_rows()\n",
    ")]\n",
    "print(f\"{len(ms_paths)} MS images\")\n",
    "\n",
    "aco_paths = [Path(r[0]) for r in (\n",
    "    aco_df\n",
    "        .filter(pl.col(\"img_type\").str.contains(\"MS\"))\n",
    "        .select(pl.col(\"path\"))\n",
    "        .iter_rows()\n",
    ")]\n",
    "print(f\"{len(aco_paths)} ACO images\")"
   ]
  },
  {
   "cell_type": "code",
   "execution_count": 38,
   "id": "deb31c05-9fc6-43c9-8378-8f4a0df74494",
   "metadata": {},
   "outputs": [],
   "source": [
    "def get_outpath(in_path: Path, crop_size=2048, version=\"0.14.0\") -> Path:\n",
    "    version_string = \"_\".join(version.split(\".\")[:3])\n",
    "    return in_path.parent.parent / \"KoM_Outputs\" / f\"{in_path.stem}_kelp_kom_{version_string}_cs{crop_size}.tif\"\n",
    "\n",
    "def get_aco_outpath(in_path: Path, crop_size=2048, version=\"0.14.0\") -> Path:\n",
    "    version_string = \"_\".join(version.split(\".\")[:3])\n",
    "    return in_path.with_name(f\"{in_path.stem}_kelp_kom_{version_string}_cs{crop_size}.tif\")\n",
    "\n",
    "def convert_to_shapefile(inpath: Path, outpath: Path, version: str):\n",
    "    schema={\n",
    "      'geometry': 'Polygon', \n",
    "      'properties': {\n",
    "          'species': 'str:32', \n",
    "          'value': 'int'\n",
    "      }\n",
    "    }\n",
    "    \n",
    "    with rasterio.open(inpath) as ds:\n",
    "        raster = ds.read(1)\n",
    "        mask = raster != 0\n",
    "        crs = ds.crs\n",
    "        transform = ds.transform\n",
    "    \n",
    "    with fiona.open(str(outpath), 'w', crs=crs, driver='ESRI Shapefile', schema=schema) as output:\n",
    "        shape_gen = rasterio.features.shapes(raster, mask=mask, transform=transform)\n",
    "        for polygon, value in tqdm(shape_gen, desc=\"Converting to shapefile\", leave=False):\n",
    "            if version >= \"0.14.0\":\n",
    "                macro_id = 1\n",
    "            else:\n",
    "                macro_id = 2\n",
    "            value = int(value)\n",
    "            output.write({\n",
    "                'geometry': shape(polygon), \n",
    "                'properties': {\n",
    "                    \"species\": \"Macrocystis pyrifera\" if value == macro_id else \"Nereocystis luetkeana\",\n",
    "                    \"value\": value\n",
    "                }\n",
    "            })"
   ]
  },
  {
   "cell_type": "markdown",
   "id": "29057bbf-0b6c-4dd4-9d03-18fa66e6fff9",
   "metadata": {},
   "source": [
    "## Classify all RGB Images"
   ]
  },
  {
   "cell_type": "code",
   "execution_count": null,
   "id": "2c2a903c-a2d4-4cbd-9006-8a2c417f0d5c",
   "metadata": {},
   "outputs": [],
   "source": [
    "model = model_registry[\"kelp-rgb\"]\n",
    "crop_size = 3072\n",
    "\n",
    "for p in tqdm(rgb_paths, desc=\"RGB images\"):\n",
    "    print(p.name)\n",
    "    outpath = get_outpath(p, crop_size, komversion)\n",
    "    shppath = outpath.with_suffix(\".shp\")\n",
    "\n",
    "    # Don't reprocess if already done\n",
    "    if shppath.exists():\n",
    "        print(f\"Output {outpath} already exists, skipping\")\n",
    "        continue\n",
    "        \n",
    "    # Create raster output\n",
    "    model.process(\n",
    "        img_path=p,\n",
    "        output_path=outpath,\n",
    "        crop_size=crop_size\n",
    "    )\n",
    "\n",
    "    # Create the shapefile\n",
    "    convert_to_shapefile(outpath, shppath, komversion)"
   ]
  },
  {
   "cell_type": "markdown",
   "id": "35e1f2cd-5b3b-4037-b740-7d610c8200db",
   "metadata": {},
   "source": [
    "## Classify all MS Images"
   ]
  },
  {
   "cell_type": "code",
   "execution_count": null,
   "id": "b11b5109-53fc-4eea-9497-e09859df80de",
   "metadata": {
    "scrolled": true
   },
   "outputs": [],
   "source": [
    "model = model_registry[\"kelp-rgbi\"]\n",
    "crop_size = 3072\n",
    "\n",
    "for p in tqdm(ms_paths, desc=\"MS images\"):\n",
    "    print(p.name)\n",
    "    outpath = get_outpath(p, crop_size, komversion)\n",
    "    outpath = outpath.with_name(f\"{outpath.stem}_b3215.tif\")\n",
    "    shppath = outpath.with_suffix(\".shp\")\n",
    "\n",
    "    # Don't reprocess if already done\n",
    "    if shppath.exists():\n",
    "        print(f\"Output {outpath} already exists, skipping\")\n",
    "        continue\n",
    "        \n",
    "    # Create raster output\n",
    "    model.process(\n",
    "        img_path=p,\n",
    "        output_path=outpath,\n",
    "        crop_size=crop_size,\n",
    "        band_order=[3,2,1,5]\n",
    "    )\n",
    "\n",
    "    # Create the shapefile\n",
    "    convert_to_shapefile(outpath, shppath, komversion)"
   ]
  },
  {
   "cell_type": "markdown",
   "id": "4649ca28-41cc-495a-b531-b93a4edbf67e",
   "metadata": {},
   "source": [
    "## ACO Images"
   ]
  },
  {
   "cell_type": "code",
   "execution_count": null,
   "id": "db25f8bf-c544-4e5d-a729-56295b119d5b",
   "metadata": {
    "scrolled": true
   },
   "outputs": [],
   "source": [
    "model = model_registry[\"kelp-rgbi\"]\n",
    "crop_size = 3072\n",
    "\n",
    "for p in tqdm(aco_paths, desc=\"ACO images\"):\n",
    "    print(p.name)\n",
    "    outpath = get_aco_outpath(p, crop_size, komversion)\n",
    "    outpath = outpath.with_name(f\"{outpath.stem}_b3214.tif\")\n",
    "    shppath = outpath.with_suffix(\".shp\")\n",
    "\n",
    "    # Don't reprocess if already done   \n",
    "    if shppath.exists():\n",
    "        print(f\"Output {outpath} already exists, skipping\")\n",
    "        continue\n",
    "\n",
    "    # Create raster output\n",
    "    model.process(\n",
    "        img_path=p,\n",
    "        output_path=outpath,\n",
    "        crop_size=crop_size,\n",
    "        band_order=[3,2,1,4]\n",
    "    )\n",
    "\n",
    "    # Create the shapefile\n",
    "    convert_to_shapefile(outpath, shppath.with_suffix(\".shp\"), komversion)"
   ]
  },
  {
   "cell_type": "code",
   "execution_count": null,
   "id": "a0b7abb8-90e7-46a9-b220-431e3ce6ca26",
   "metadata": {},
   "outputs": [],
   "source": []
  }
 ],
 "metadata": {
  "kernelspec": {
   "display_name": "Python 3 (ipykernel)",
   "language": "python",
   "name": "python3"
  },
  "language_info": {
   "codemirror_mode": {
    "name": "ipython",
    "version": 3
   },
   "file_extension": ".py",
   "mimetype": "text/x-python",
   "name": "python",
   "nbconvert_exporter": "python",
   "pygments_lexer": "ipython3",
   "version": "3.12.3"
  }
 },
 "nbformat": 4,
 "nbformat_minor": 5
}
